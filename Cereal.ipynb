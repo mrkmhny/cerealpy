{
 "cells": [
  {
   "cell_type": "markdown",
   "metadata": {},
   "source": [
    "## Goals\n",
    "\n",
    "- For everybody to be able to follow along and learn something\n",
    "- Use vanilla python with standard libraries only when needed\n",
    "\n",
    "## Disclamers\n",
    "- Not necessarily the best way or even the right way\n",
    "- "
   ]
  },
  {
   "cell_type": "markdown",
   "metadata": {},
   "source": [
    "# Part 1. Prepare our data"
   ]
  },
  {
   "cell_type": "markdown",
   "metadata": {},
   "source": [
    "### Load the CSV into our project"
   ]
  },
  {
   "cell_type": "markdown",
   "metadata": {},
   "source": [
    "- name: Name of cereal\n",
    "- mfr: Manufacturer of cereal\n",
    "    - A = American Home Food Products;\n",
    "    - G = General Mills\n",
    "    - K = Kelloggs\n",
    "    - N = Nabisco\n",
    "    - P = Post\n",
    "    - Q = Quaker Oats\n",
    "    - R = Ralston Purina\n",
    "- type: cold vs hot\n",
    "- calories: calories per serving\n",
    "- protein: grams of protein\n",
    "- fat: grams of fat\n",
    "- sodium: milligrams of sodium\n",
    "- fiber: grams of dietary fiber\n",
    "- carbo: grams of complex carbohydrates\n",
    "- sugars: grams of sugars\n",
    "- potass: milligrams of potassium\n",
    "- vitamins: vitamins and minerals - 0, 25, or 100, indicating the typical percentage of FDA recommended serving\n",
    "- shelf: display shelf (1, 2, or 3, counting from the floor)\n",
    "- weight: weight in ounces of one serving\n",
    "- cups: number of cups in one serving\n",
    "- rating: a rating of the cereals (Possibly from Consumer Reports?)\n",
    "\n",
    "Source: https://www.kaggle.com/crawford/80-cereals\n",
    "\n",
    "[View this File](/edit/cereal.csv)"
   ]
  },
  {
   "cell_type": "code",
   "execution_count": 122,
   "metadata": {},
   "outputs": [
    {
     "name": "stdout",
     "output_type": "stream",
     "text": [
      "[['name', 'mfr', 'type', 'calories', 'protein', 'fat', 'sodium', 'fiber', 'carbo', 'sugars', 'potass', 'vitamins', 'shelf', 'weight', 'cups', 'rating'], ['100% Bran', 'N', 'C', '70', '4', '1', '130', '10', '5', '6', '280', '25', '3', '1', '0.33', '68.402973'], ['100% Natural Bran', 'Q', 'C', '120', '3', '5', '15', '2', '8', '8', '135', '0', '3', '1', '1', '33.983679'], ['All-Bran', 'K', 'C', '70', '4', '1', '260', '9', '7', '5', '320', '25', '3', '1', '0.33', '59.425505'], ['All-Bran with Extra Fiber', 'K', 'C', '50', '4', '0', '140', '14', '8', '0', '330', '25', '3', '1', '0.5', '93.704912']]\n"
     ]
    }
   ],
   "source": [
    "import csv\n",
    "\n",
    "with open('cereal.csv') as f:\n",
    "    data = list(csv.reader(f))\n",
    "    \n",
    "print(data)"
   ]
  },
  {
   "cell_type": "code",
   "execution_count": 208,
   "metadata": {},
   "outputs": [
    {
     "name": "stdout",
     "output_type": "stream",
     "text": [
      "Number of Rows:  78\n",
      "Number of Cols:  16\n"
     ]
    }
   ],
   "source": [
    "print('Number of Rows: ', len(data))\n",
    "print('Number of Cols: ', len(data[0]))"
   ]
  },
  {
   "cell_type": "code",
   "execution_count": 251,
   "metadata": {},
   "outputs": [
    {
     "name": "stdout",
     "output_type": "stream",
     "text": [
      "name   mfr    type   calori protei fat    sodium fiber  carbo  sugars potass vitami shelf  weight cups   rating \n",
      "\n",
      "100% B N      C      70     4      1      130    10     5      6      280    25     3      1      0.33   68.402 \n",
      "\n",
      "100% N Q      C      120    3      5      15     2      8      8      135    0      3      1      1      33.983 \n",
      "\n",
      "All-Br K      C      70     4      1      260    9      7      5      320    25     3      1      0.33   59.425 \n",
      "\n",
      "All-Br K      C      50     4      0      140    14     8      0      330    25     3      1      0.5    93.704 \n",
      "\n",
      "Almond R      C      110    2      2      200    1      14     8      0      25     3      1      0.75   34.384 \n",
      "\n",
      "** Total Number of columns:  16\n",
      "** Displaying rows 1 -  6  of  78 \n",
      "\n"
     ]
    }
   ],
   "source": [
    "def peak_in(d, rows=6):\n",
    "    for row in d[0:rows]:\n",
    "        for col_num, col in enumerate(row):\n",
    "            if (col_num <= 15):\n",
    "                print(str(col)[:6], end=(' ' * (7 - len(str(col)[:6]))))\n",
    "            else:\n",
    "                print(' ... ')\n",
    "                break\n",
    "        print('\\n')\n",
    "\n",
    "    print('** Total Number of columns: ', str(len(data[0])))\n",
    "    print('** Displaying rows 1 - ', str(rows), ' of ', str(len(d)), '\\n')\n",
    "\n",
    "peak_in(data)"
   ]
  },
  {
   "cell_type": "markdown",
   "metadata": {
    "slideshow": {
     "slide_type": "-"
    }
   },
   "source": [
    "### Randomize Our Rows"
   ]
  },
  {
   "cell_type": "code",
   "execution_count": 238,
   "metadata": {},
   "outputs": [
    {
     "name": "stdout",
     "output_type": "stream",
     "text": [
      "Oatmea G      C      130    3      2      170    1.5    13.5   10     120    25     3      1.25   0.5    30.450 \n",
      "\n",
      "Just R K      C      110    2      1      170    1      17     6      60     100    3      1      1      36.523 \n",
      "\n",
      "Raisin G      C      100    3      2      140    2.5    10.5   8      140    25     3      1      0.5    39.703 \n",
      "\n",
      "Shredd N      C      90     3      0      0      4      19     0      140    0      1      1      0.67   74.472 \n",
      "\n",
      "Bran C R      C      90     2      1      200    4      15     6      125    25     1      1      0.67   49.120 \n",
      "\n",
      "Shredd N      C      80     2      0      0      3      16     0      95     0      1      0.83   1      68.235 \n",
      "\n",
      "... Displaying rows 1 - 6 of 77\n",
      "\n"
     ]
    }
   ],
   "source": [
    "data_randomized = data[1:]\n",
    "import random\n",
    "random.shuffle(data_randomized);\n",
    "\n",
    "peak_in(data_randomized)"
   ]
  },
  {
   "cell_type": "code",
   "execution_count": 239,
   "metadata": {},
   "outputs": [
    {
     "name": "stdout",
     "output_type": "stream",
     "text": [
      "130.0  3.0    2.0    170.0  1.5    13.5   10.0   120.0  25.0   1.25   0.5    30.450 \n",
      "\n",
      "110.0  2.0    1.0    170.0  1.0    17.0   6.0    60.0   100.0  1.0    1.0    36.523 \n",
      "\n",
      "100.0  3.0    2.0    140.0  2.5    10.5   8.0    140.0  25.0   1.0    0.5    39.703 \n",
      "\n",
      "90.0   3.0    0.0    0.0    4.0    19.0   0.0    140.0  0.0    1.0    0.67   74.472 \n",
      "\n",
      "90.0   2.0    1.0    200.0  4.0    15.0   6.0    125.0  25.0   1.0    0.67   49.120 \n",
      "\n",
      "80.0   2.0    0.0    0.0    3.0    16.0   0.0    95.0   0.0    0.83   1.0    68.235 \n",
      "\n",
      "... Displaying rows 1 - 6 of 77\n",
      "\n"
     ]
    }
   ],
   "source": [
    "data_values_only = []\n",
    "\n",
    "for row_num, row in enumerate(data_randomized):\n",
    "    data_values_only.append([])\n",
    "    for col_num, col in enumerate(row):\n",
    "        if (col_num not in {0, 1, 2, 12}):\n",
    "            data_values_only[row_num].append(float(col))\n",
    "            \n",
    "peak_in(data_values_only)"
   ]
  },
  {
   "cell_type": "markdown",
   "metadata": {},
   "source": [
    "### Column names for reference:\n",
    "\n",
    "(0) Cals | (1) Prot | (2) Fat | (3) Na | (4) Fib | (5) Carb | (6) Sug | (7) K  | (8) Vit | (9)  Weight | (10) Cups | (11) Score"
   ]
  },
  {
   "cell_type": "code",
   "execution_count": 240,
   "metadata": {},
   "outputs": [
    {
     "name": "stdout",
     "output_type": "stream",
     "text": [
      "260.0  6.0    4.0    340.0  3.0    27.0   20.0   240.0  50.0   2.5    30.450 \n",
      "\n",
      "110.0  2.0    1.0    170.0  1.0    17.0   6.0    60.0   100.0  1.0    36.523 \n",
      "\n",
      "200.0  6.0    4.0    280.0  5.0    21.0   16.0   280.0  50.0   2.0    39.703 \n",
      "\n",
      "134.32 4.4776 0.0    0.0    5.9701 28.358 0.0    208.95 0.0    1.4925 74.472 \n",
      "\n",
      "134.32 2.9850 1.4925 298.50 5.9701 22.388 8.9552 186.56 37.313 1.4925 49.120 \n",
      "\n",
      "80.0   2.0    0.0    0.0    3.0    16.0   0.0    95.0   0.0    0.83   68.235 \n",
      "\n",
      "... Displaying rows 1 - 6 of 77\n",
      "\n"
     ]
    }
   ],
   "source": [
    "data_proportional = [];\n",
    "\n",
    "for row_num, row in enumerate(data_values_only):\n",
    "    data_proportional.append([])\n",
    "    for col_num, col in enumerate(row):\n",
    "        if (col_num not in {10, 11}):\n",
    "            data_proportional[row_num].append(col / data_values_only[row_num][10])\n",
    "        elif (col_num == 11):\n",
    "            data_proportional[row_num].append(col) # Score, unchanged\n",
    "\n",
    "peak_in(data_proportional)"
   ]
  },
  {
   "cell_type": "markdown",
   "metadata": {},
   "source": [
    "### Column names for reference:\n",
    "(0) Cals | (1) Prot | (2) Fat | (3) Na | (4) Fib | (5) Carb | (6) Sug | (7) K | (8) Vit | (9) Weight | (10) Score"
   ]
  },
  {
   "cell_type": "markdown",
   "metadata": {},
   "source": [
    "### Add Y-Intercept"
   ]
  },
  {
   "cell_type": "code",
   "execution_count": 241,
   "metadata": {},
   "outputs": [
    {
     "name": "stdout",
     "output_type": "stream",
     "text": [
      "1      260.0  6.0    4.0    340.0  3.0    27.0   20.0   240.0  50.0   2.5    30.450 \n",
      "\n",
      "1      110.0  2.0    1.0    170.0  1.0    17.0   6.0    60.0   100.0  1.0    36.523 \n",
      "\n",
      "1      200.0  6.0    4.0    280.0  5.0    21.0   16.0   280.0  50.0   2.0    39.703 \n",
      "\n",
      "1      134.32 4.4776 0.0    0.0    5.9701 28.358 0.0    208.95 0.0    1.4925 74.472 \n",
      "\n",
      "1      134.32 2.9850 1.4925 298.50 5.9701 22.388 8.9552 186.56 37.313 1.4925 49.120 \n",
      "\n",
      "1      80.0   2.0    0.0    0.0    3.0    16.0   0.0    95.0   0.0    0.83   68.235 \n",
      "\n",
      "... Displaying rows 1 - 6 of 77\n",
      "\n"
     ]
    }
   ],
   "source": [
    "data_prepped = [];\n",
    "\n",
    "for row_num, row in enumerate(data_proportional):\n",
    "    data_prepped.append([1] + data_proportional[row_num])\n",
    "            \n",
    "peak_in(data_prepped)"
   ]
  },
  {
   "cell_type": "markdown",
   "metadata": {},
   "source": [
    "### Split Our Data into two parts"
   ]
  },
  {
   "cell_type": "markdown",
   "metadata": {},
   "source": [
    "### Column Labels for Reference\n",
    "\n",
    "(0) Y-int | (1) Cals | (2) Prot | (3) Fat | (4) Na | (5) Fib | (6) Carb | (7) Sug | (8) K | (9) Vit | (10) Weight | (11) Score"
   ]
  },
  {
   "cell_type": "code",
   "execution_count": 242,
   "metadata": {},
   "outputs": [
    {
     "name": "stdout",
     "output_type": "stream",
     "text": [
      "Number of training examples: 61\n",
      "Number of validation examples: 16\n",
      "Number of features:  11\n"
     ]
    }
   ],
   "source": [
    "num_of_training_examples = int(len(data_prepped)*0.8)\n",
    "\n",
    "training_set   = data_prepped[:num_of_training_examples]\n",
    "validation_set = data_prepped[num_of_training_examples:]\n",
    "\n",
    "print('Number of training examples: ' + str(len(training_set)))\n",
    "print('Number of validation examples: ' + str(len(validation_set)))\n",
    "print('Number of features: ', len(validation_set[0]) - 1)"
   ]
  },
  {
   "cell_type": "markdown",
   "metadata": {},
   "source": [
    "# Part 2: Create Our Algorithm"
   ]
  },
  {
   "cell_type": "markdown",
   "metadata": {},
   "source": [
    "## Initialize Our Parameters For Training Set"
   ]
  },
  {
   "cell_type": "code",
   "execution_count": 243,
   "metadata": {},
   "outputs": [
    {
     "name": "stdout",
     "output_type": "stream",
     "text": [
      "X (Sample): \n",
      "1      260.0  6.0    4.0    340.0  3.0    27.0   20.0   240.0  50.0   2.5    \n",
      "\n",
      "1      110.0  2.0    1.0    170.0  1.0    17.0   6.0    60.0   100.0  1.0    \n",
      "\n",
      "1      200.0  6.0    4.0    280.0  5.0    21.0   16.0   280.0  50.0   2.0    \n",
      "\n",
      "1      134.32 4.4776 0.0    0.0    5.9701 28.358 0.0    208.95 0.0    1.4925 \n",
      "\n",
      "1      134.32 2.9850 1.4925 298.50 5.9701 22.388 8.9552 186.56 37.313 1.4925 \n",
      "\n",
      "1      80.0   2.0    0.0    0.0    3.0    16.0   0.0    95.0   0.0    0.83   \n",
      "\n",
      "... Displaying rows 1 - 6 of 61\n",
      "\n",
      "---\n",
      "\n",
      "y:  [30.450843, 36.523683, 39.7034, 74.472949, 49.120253, 68.235885, 49.787445, 22.736446, 31.072217, 31.230054, 36.176196, 19.823573, 51.592193, 72.801787, 26.734515, 36.471512, 40.917047, 29.509541, 29.924285, 36.187559, 35.782791, 38.839746, 37.038562, 63.005645, 59.642837, 28.025765, 41.998933, 46.895644, 53.371007, 53.131324, 49.511874, 41.50354, 45.811716, 28.742414, 60.756112, 37.840594, 34.139765, 41.015492, 35.252444, 40.105965, 40.69232, 22.396513, 45.863324, 31.435973, 64.533816, 30.313351, 23.804043, 33.983679, 68.402973, 55.333142, 53.313813, 59.363993, 50.828392, 52.076897, 39.241114, 27.753301, 41.445019, 34.384843, 46.658844, 18.042851, 32.207582] \n",
      "\n",
      "---\n",
      "\n",
      "m:  11 \n",
      "\n",
      "---\n",
      "\n",
      "theta:  [0, 0, 0, 0, 0, 0, 0, 0, 0, 0, 0] \n",
      "\n",
      "---\n",
      "\n"
     ]
    }
   ],
   "source": [
    "X = []\n",
    "y = []\n",
    "\n",
    "for row in training_set:\n",
    "    X.append(row[:11])\n",
    "    y.append(row[11])\n",
    "    \n",
    "m = len(X[0])\n",
    "theta = [0] * m\n",
    "alpha = 0.3\n",
    "interations = 200\n",
    "\n",
    "print('X (Sample): ')\n",
    "peak_in(X)\n",
    "print('---\\n')\n",
    "print('y: ', y, '\\n\\n---\\n')\n",
    "print('m: ', m, '\\n\\n---\\n')\n",
    "print('theta: ', theta, '\\n\\n---\\n')"
   ]
  },
  {
   "cell_type": "markdown",
   "metadata": {},
   "source": [
    "### Transposition"
   ]
  },
  {
   "cell_type": "code",
   "execution_count": 244,
   "metadata": {},
   "outputs": [
    {
     "name": "stdout",
     "output_type": "stream",
     "text": [
      "1      1      1      1      1      1      1      1      1      1      1      1      1      1      1      1       ... \n",
      "\n",
      "\n",
      "260.0  110.0  200.0  134.32 134.32 80.0   149.25 110.0  146.66 146.66 133.33 160.0  100.0  134.32 110.0  186.66  ... \n",
      "\n",
      "\n",
      "6.0    2.0    6.0    4.4776 2.9850 2.0    4.4776 1.0    4.0    2.6666 2.6666 1.3333 3.0    4.4776 2.0    4.0     ... \n",
      "\n",
      "\n",
      "4.0    1.0    4.0    0.0    1.4925 0.0    1.4925 1.0    1.3333 1.3333 1.3333 4.0    1.0    0.0    1.0    1.3333  ... \n",
      "\n",
      "\n",
      "340.0  170.0  280.0  0.0    298.50 0.0    343.28 180.0  333.33 93.333 186.66 280.0  200.0  0.0    180.0  226.66  ... \n",
      "\n",
      "\n",
      "3.0    1.0    5.0    5.9701 5.9701 3.0    4.4776 0.0    2.0    1.3333 2.6666 0.0    3.0    4.4776 0.0    2.6666  ... \n",
      "\n",
      "\n",
      "... Displaying rows 1 - 6 of 11\n",
      "\n"
     ]
    }
   ],
   "source": [
    "def transpose(matrix):\n",
    "    return list(map(list, zip(*matrix)))\n",
    "\n",
    "example_matrix = [[1,2,3],\n",
    "                  [4,5,6],\n",
    "                  [7,8,9]]\n",
    "\n",
    "peak_in(transpose(X))"
   ]
  },
  {
   "cell_type": "markdown",
   "metadata": {},
   "source": [
    "### Normalize All the Features"
   ]
  },
  {
   "cell_type": "markdown",
   "metadata": {},
   "source": [
    "#### Refresher of statistics terms:\n",
    "\n",
    "- **μ or mu:** The mean (i.e. average) of a list of values.  \n",
    "\n",
    "- **σ or sigma or standard deviation:** A measure of how dispersed a data set is from it's mean.\n",
    "\n",
    "- **range**: Difference between the highest and lowest item in a list"
   ]
  },
  {
   "cell_type": "code",
   "execution_count": 260,
   "metadata": {},
   "outputs": [
    {
     "name": "stdout",
     "output_type": "stream",
     "text": [
      "[1, 143.65708529001571, 3.3868106797100874, 1.3743391833678107, 205.74974236908415, 3.022299085793091, 19.232461678772925, 9.248450300670246, 128.52144512586517, 36.23073959249564, 1.3876660896944426]\n",
      "[0.0, 64.38921318265143, 2.405482356727578, 1.6319113190492316, 125.6383934056823, 4.449316472741617, 9.102905318464357, 6.159673019942178, 134.2504538969575, 28.03486829158596, 0.6235678950991048]\n",
      "[0, 390.0, 11.369332421964002, 9.09090909090909, 680.0, 30.3030303030303, 69.49253731343283, 22.388059701492537, 848.4848484848485, 133.33333333333334, 3.5]\n"
     ]
    }
   ],
   "source": [
    "import statistics\n",
    "\n",
    "mu = list(map(statistics.mean,transpose(X))) # returns a list of means for each feature (the number of features)\n",
    "sigma = list(map(statistics.stdev, transpose(X))) # returns a list of standard deviations for each feature\n",
    "X_range = list(map(lambda feature: max(feature) - min(feature), transpose(X))) # returns list of ranges for each feature\n",
    "\n",
    "print(mu)\n",
    "print(sigma)\n",
    "print(X_range)\n",
    "\n",
    "X_norm = list(map( (X(:,2:size(X)(2)) - mu ) ./ X_range )\n",
    "\n",
    "\n",
    "# peak_in(test)\n",
    "\n",
    "# for col in range(len(X[0])):\n",
    "#     for row:\n",
    "#     print ('yo')\n",
    "\n",
    "# print ([x + y for x, y in zip(X[0], X[1])])\n",
    "\n",
    "# for row in X: \n",
    "#     averages.push([])\n",
    "#     for col in X:\n",
    "#         averages[0]\n",
    "\n",
    "# sigma = std(X);\n",
    "# Xrange = range( X(:,2:size(X)(2)));\n",
    "# X_norm = [X(:,1) ( (X(:,2:size(X)(2)) - mu ) ./ Xrange )];"
   ]
  },
  {
   "cell_type": "code",
   "execution_count": 266,
   "metadata": {},
   "outputs": [
    {
     "name": "stdout",
     "output_type": "stream",
     "text": [
      "[4, 2, 3]\n"
     ]
    }
   ],
   "source": [
    "yo = list(map(len,['test','yo','sup']))\n",
    "print(yo)"
   ]
  },
  {
   "cell_type": "code",
   "execution_count": null,
   "metadata": {},
   "outputs": [],
   "source": []
  }
 ],
 "metadata": {
  "celltoolbar": "Slideshow",
  "kernelspec": {
   "display_name": "Python 3",
   "language": "python",
   "name": "python3"
  },
  "language_info": {
   "codemirror_mode": {
    "name": "ipython",
    "version": 3
   },
   "file_extension": ".py",
   "mimetype": "text/x-python",
   "name": "python",
   "nbconvert_exporter": "python",
   "pygments_lexer": "ipython3",
   "version": "3.6.4"
  }
 },
 "nbformat": 4,
 "nbformat_minor": 2
}
